{
 "cells": [
  {
   "cell_type": "code",
   "execution_count": 2,
   "metadata": {},
   "outputs": [
    {
     "name": "stdout",
     "output_type": "stream",
     "text": [
      "2\n",
      "3\n",
      "4\n"
     ]
    }
   ],
   "source": [
    "(require [hy.contrib.walk [let]])\n",
    "\n",
    "(let [x 1]\n",
    "  (defn increment []\n",
    "    (setv x (+ x 1))\n",
    "    x))\n",
    "\n",
    "(print (increment))\n",
    "(print (increment))\n",
    "(print (increment))"
   ]
  },
  {
   "cell_type": "code",
   "execution_count": 3,
   "metadata": {},
   "outputs": [
    {
     "data": {
      "text/plain": [
       "b'<!DOCTYPE html>\\n<html lang=\"en-us\">\\n  <head>\\n    <meta charset=\"utf-8\">\\n    <meta http-equiv=\"X-UA-Compatible\" content=\"IE=edge,chrome=1\">\\n    \\n    <title>Mark Watson: AI Practitioner and Lisp Hacker | Mark Watson</title>\\n    <meta name=\"viewport\" content=\"width=device-width,minimum-scale=1\">\\n    <meta name=\"description\" content=\"I am the author of 20&#43; books on Artificial Intelligence, Common Lisp, Deep Learning, Haskell, Java, Ruby, Hy language, and the Semantic Web. I have 55 US Patents.\">\\n    <meta name=\"generator\" content=\"Hugo 0.78.0\" />\\n    \\n    \\n      <META NAME=\"ROBOTS\" CONTENT=\"NOINDEX, NOFOLLOW\">\\n    \\n\\n    \\n    \\n      <link href=\"/dist/css/app.4fc0b62e4b82c997bb0041217cd6b979.css\" rel=\"stylesheet\">\\n    \\n\\n    \\n\\n    \\n      \\n\\n    \\n\\n    \\n    \\n      <link href=\"/index.xml\" rel=\"alternate\" type=\"application/rss+xml\" title=\"Mark Watson\" />\\n      <link href=\"/index.xml\" rel=\"feed\" type=\"application/rss+xml\" title=\"Mark Watson\" />\\n      \\n    \\n    \\n    <meta property=\"og:title\" content=\"Mark Watson: AI Practitioner and Lisp Hacker\" />\\n<meta property=\"og:description\" content=\"I am the author of 20&#43; books on Artificial Intelligence, Common Lisp, Deep Learning, Haskell, Java, Ruby, Hy language, and the Semantic Web. I have 55 US Patents.\" />\\n<meta property=\"og:type\" content=\"website\" />\\n<meta property=\"og:url\" content=\"http://markwatson.com/\" />\\n<meta property=\"og:updated_time\" content=\"2020-10-22T16:41:00-07:00\" />\\n<meta itemprop=\"name\" content=\"Mark Watson: AI Practitioner and Lisp Hacker\">\\n<meta itemprop=\"description\" content=\"I am the author of 20&#43; books on Artificial Intelligence, Common Lisp, Deep Learning, Haskell, Java, Ruby, Hy language, and the Semantic Web. I have 55 US Patents.\">\\n<meta name=\"twitter:card\" content=\"summary\"/>\\n<meta name=\"twitter:title\" content=\"Mark Watson: AI Practitioner and Lisp Hacker\"/>\\n<meta name=\"twitter:description\" content=\"I am the author of 20&#43; books on Artificial Intelligence, Common Lisp, Deep Learning, Haskell, Java, Ruby, Hy language, and the Semantic Web. I have 55 US Patents.\"/>\\n\\n\\t\\n  </head>\\n\\n  <body class=\"ma0 avenir bg-near-white\">\\n\\n    \\n\\n  \\n  \\n  <header class=\"cover bg-top\" style=\"background-image: url(\\'http://markwatson.com/images/Sedonan_near_our_home.jpg\\');\">\\n    <div class=\"bg-black-60\">\\n      <nav class=\"pv3 ph3 ph4-ns\" role=\"navigation\">\\n  <div class=\"flex-l justify-between items-center center\">\\n    <a href=\"/\" class=\"f3 fw2 hover-white no-underline white-90 dib\">\\n      \\n        Mark Watson\\n      \\n    </a>\\n    <div class=\"flex-l items-center\">\\n      \\n\\n      \\n        <ul class=\"pl0 mr3\">\\n          \\n          <li class=\"list f5 f4-ns fw4 dib pr3\">\\n            <a class=\"hover-white no-underline white-90\" href=\"/blog/\" title=\"Blogs page\">\\n              Blogs\\n            </a>\\n          </li>\\n          \\n          <li class=\"list f5 f4-ns fw4 dib pr3\">\\n            <a class=\"hover-white no-underline white-90\" href=\"/fun/\" title=\"Fun stuff page\">\\n              Fun stuff\\n            </a>\\n          </li>\\n          \\n          <li class=\"list f5 f4-ns fw4 dib pr3\">\\n            <a class=\"hover-white no-underline white-90\" href=\"/books/\" title=\"My Books page\">\\n              My Books\\n            </a>\\n          </li>\\n          \\n          <li class=\"list f5 f4-ns fw4 dib pr3\">\\n            <a class=\"hover-white no-underline white-90\" href=\"/opensource/\" title=\"My Open Source Projects page\">\\n              My Open Source Projects\\n            </a>\\n          </li>\\n          \\n        </ul>\\n      \\n      \\n\\n\\n\\n\\n\\n\\n\\n\\n\\n\\n\\n\\n\\n\\n\\n    </div>\\n  </div>\\n</nav>\\n\\n      <div class=\"tc-l pv4 pv6-l ph3 ph4-ns\">\\n        <h1 class=\"f2 f-subheadline-l fw2 white-90 mb0 lh-title\">\\n          Mark Watson: AI Practitioner and Lisp Hacker\\n        </h1>\\n        \\n          <h2 class=\"fw1 f5 f3-l white-80 measure-wide-l center mt3\">\\n            I am the author of 20&#43; books on Artificial Intelligence, Common Lisp, Deep Learning, Haskell, Java, Ruby, Hy language, and the Semantic Web. I have 55 US Patents.\\n          </h2>\\n        \\n      </div>\\n    </div>\\n  </header>\\n\\n\\n    <main class=\"pb7\" role=\"main\">\\n      \\n  <article class=\"cf ph3 ph5-l pv3 pv4-l f4 tc-l center measure-wide lh-copy mid-gray\">\\n    <p>My customer list includes: Google, Olive AI, Capital One, CompassLabs, Disney, SAIC, Americast, PacBell, CastTV, Lutris Technology, Arctan Group, Sitescout.com, Embed.ly, and Webmind Corporation.</p>\\n<p>I have worked in the fields of general\\nartificial intelligence, machine learning, semantic web and linked data, and\\nnatural language processing since 1982.</p>\\n<p>I currently work on a Knowledge Graph team at <a href=\"https://oliveai.com\">Olive AI</a>.\\n<!-- raw HTML omitted --></p>\\n<h3 id=\"find-me-on\">Find me on:</h3>\\n<p><a href=\"https://github.com/mark-watson\">GitHub</a> |\\n<a href=\"https://www.linkedin.com/in/marklwatson/\">LinkedIn</a> |\\n<a href=\"https://twitter.com/mark_l_watson\">Twitter</a></p>\\n<h3 id=\"linked-data\">Linked data:</h3>\\n<p><a href=\"https://markwatson.com/index.rdf\">XML RDF</a> |\\n<a href=\"https://markwatson.com/index.ttl\">Turtle RDF</a> |\\n<a href=\"https://www.wikidata.org/wiki/Q18670263\">WikiData</a></p>\\n\\n  </article>\\n  \\n  \\n  \\n  \\n  \\n  \\n  \\n    \\n    \\n\\n    <div class=\"pa3 pa4-ns w-100 w-70-ns center\">\\n      \\n       \\n          <h1 class=\"flex-none\">\\n            Recent Blogs\\n          </h1>\\n        \\n\\n      \\n\\n      <section class=\"w-100 mw8\">\\n        \\n        \\n          <div class=\"relative w-100 mb4\">\\n            \\n<article class=\"bb b--black-10\">\\n  <div class=\"db pv4 ph3 ph0-l no-underline dark-gray\">\\n    <div class=\"flex flex-column flex-row-ns\">\\n      \\n      <div class=\"blah w-100\">\\n        <h1 class=\"f3 fw1 athelas mt0 lh-title\">\\n          <a href=\"https://markwatson.com/blog/2020-10-22-i-have-a-new-job-helping-to-build-a-knowledge-graph-at-olive-ai/\" class=\"color-inherit dim link\">\\n            I have a new job helping to build a Knowledge Graph at Olive AI\\n            </a>\\n        </h1>\\n        <div class=\"f6 f5-l lh-copy nested-copy-line-height nested-links\">\\n          I retired (my last job was Master Software Engineer and the manager of a deep learning team at Capital One) a year ago April and was enjoying time with friends and family, doing personal research in hybrid AI, lots of writing, and volunteering at our local food bank. I stopped my volunteer work with COVID-19 and welcomed the opportunity last month to start work at Olive AI\\xc2\\xa0working on a very strong Knowledge Graph team.\\n        </div>\\n          <a href=\"https://markwatson.com/blog/2020-10-22-i-have-a-new-job-helping-to-build-a-knowledge-graph-at-olive-ai/\" class=\"ba b--moon-gray bg-light-gray br2 color-inherit dib f7 hover-bg-moon-gray link mt2 ph2 pv1\">read more</a>\\n        \\n      </div>\\n    </div>\\n  </div>\\n</article>\\n\\n          </div>\\n        \\n          <div class=\"relative w-100 mb4\">\\n            \\n<article class=\"bb b--black-10\">\\n  <div class=\"db pv4 ph3 ph0-l no-underline dark-gray\">\\n    <div class=\"flex flex-column flex-row-ns\">\\n      \\n      <div class=\"blah w-100\">\\n        <h1 class=\"f3 fw1 athelas mt0 lh-title\">\\n          <a href=\"https://markwatson.com/blog/2020-07-08-i-have-tried-to-take-advantage-of-extra-time-during-the-covid-19-pandemic/\" class=\"color-inherit dim link\">\\n            I have tried to take advantage of extra time during the COVID-19 pandemic\\n            </a>\\n        </h1>\\n        <div class=\"f6 f5-l lh-copy nested-copy-line-height nested-links\">\\n          My wife Carol and I have been practicing social distancing and wearing masks for shopping for over 5 months now. Welcome to the new normal and a crazy world in which entertaining and seeing friends is done by meeting in people&rsquo;s yards and everyone bringing their own &ldquo;meal in a bag.&rdquo;\\nI enjoy writing so I have been updating my recent books, starting with Loving Common Lisp, or the Savvy Programmer&rsquo;s Secret Weapon and\\xc2\\xa0A Lisp Programmer Living in Python-Land: The Hy Programming Language.\\n        </div>\\n          <a href=\"https://markwatson.com/blog/2020-07-08-i-have-tried-to-take-advantage-of-extra-time-during-the-covid-19-pandemic/\" class=\"ba b--moon-gray bg-light-gray br2 color-inherit dib f7 hover-bg-moon-gray link mt2 ph2 pv1\">read more</a>\\n        \\n      </div>\\n    </div>\\n  </div>\\n</article>\\n\\n          </div>\\n        \\n          <div class=\"relative w-100 mb4\">\\n            \\n<article class=\"bb b--black-10\">\\n  <div class=\"db pv4 ph3 ph0-l no-underline dark-gray\">\\n    <div class=\"flex flex-column flex-row-ns\">\\n      \\n      <div class=\"blah w-100\">\\n        <h1 class=\"f3 fw1 athelas mt0 lh-title\">\\n          <a href=\"https://markwatson.com/blog/2020-02-18-custom-built-sbcl-and-using-spacy-and-tensorflow-in-common-lisp/\" class=\"color-inherit dim link\">\\n            Custom built SBCL and using spaCy and TensorFlow in Common Lisp\\n            </a>\\n        </h1>\\n        <div class=\"f6 f5-l lh-copy nested-copy-line-height nested-links\">\\n          Here are some of my of my recent notes that might save you some time, or teach you a new trick.\\nI have had good results using the py4cl library if I wrap API calls to TensorFlow or spaCy in a short Python library that calls Python libraries and returns results in simple types like strings and dictionaries. I just committed a complete example (Python library and Common Lisp client code) to the public repo for my book\\xc2\\xa0Loving Common Lisp, or the Savvy Programmer&rsquo;s Secret Weapon that will be added to the next edition of my book.\\n        </div>\\n          <a href=\"https://markwatson.com/blog/2020-02-18-custom-built-sbcl-and-using-spacy-and-tensorflow-in-common-lisp/\" class=\"ba b--moon-gray bg-light-gray br2 color-inherit dib f7 hover-bg-moon-gray link mt2 ph2 pv1\">read more</a>\\n        \\n      </div>\\n    </div>\\n  </div>\\n</article>\\n\\n          </div>\\n        \\n      </section>\\n\\n      \\n      <section class=\"w-100\">\\n        <h1 class=\"f3\">More</h1>\\n        \\n        \\n          <h2 class=\"f5 fw4 mb4 dib mr3\">\\n            <a href=\"https://markwatson.com/blog/2020-02-10-protecting-oneself-from-surveillance-capitalism/\" class=\"link black dim\">\\n              Protecting oneself from surveillance capitalism\\n            </a>\\n          </h2>\\n        \\n          <h2 class=\"f5 fw4 mb4 dib mr3\">\\n            <a href=\"https://markwatson.com/blog/2020-01-02-my-hopes-and-predictions-for-the-next-10-years/\" class=\"link black dim\">\\n              My hopes and predictions for the next 10 years\\n            </a>\\n          </h2>\\n        \\n          <h2 class=\"f5 fw4 mb4 dib mr3\">\\n            <a href=\"https://markwatson.com/blog/2019-09-26-gans-and-other-deep-learning-models-for-cooking-recipes/\" class=\"link black dim\">\\n              GANs and other deep learning models  for cooking recipes\\n            </a>\\n          </h2>\\n        \\n          <h2 class=\"f5 fw4 mb4 dib mr3\">\\n            <a href=\"https://markwatson.com/blog/2019-08-09-back-living-in-sedona-arizona-and-enjoying-my-retirement/\" class=\"link black dim\">\\n              Back living in Sedona Arizona and enjoying my retirement\\n            </a>\\n          </h2>\\n        \\n\\n        \\n        \\n          <a href=\"https://markwatson.com/blog/\" class=\"link db f6 pa2 br3 bg-mid-gray white dim w4 tc\">All Blogs</a>\\n        \\n        </section>\\n      \\n\\n      </div>\\n  \\n\\n    </main>\\n    <footer class=\"bg-black bottom-0 w-100 pa3\" role=\"contentinfo\">\\n  <div class=\"flex justify-between\">\\n  <a class=\"f4 fw4 hover-white no-underline white-70 dn dib-ns pv2 ph3\" href=\"https://markwatson.com/\">\\n    &copy;  Mark Watson 2020 \\n  </a>\\n    <div>\\n\\n\\n\\n\\n\\n\\n\\n\\n\\n\\n\\n\\n\\n\\n</div>\\n  </div>\\n</footer>\\n\\n    \\n\\n  <script src=\"/dist/js/app.3fc0f988d21662902933.js\" type=\"c207ff2199e9f1f56ca44a77-text/javascript\"></script>\\n\\n\\n  <script src=\"https://ajax.cloudflare.com/cdn-cgi/scripts/7089c43e/cloudflare-static/rocket-loader.min.js\" data-cf-settings=\"c207ff2199e9f1f56ca44a77-|49\" defer=\"\"></script></body>\\n</html>\\n'"
      ]
     },
     "execution_count": 3,
     "metadata": {},
     "output_type": "execute_result"
    }
   ],
   "source": [
    "(import [urllib.request [Request urlopen]])\n",
    "\n",
    "(defn get-raw-data-from-web [aUri &optional [anAgent {\"User-Agent\" \"HyLangBook/1.0\"}]]\n",
    "  (setv req (Request aUri :headers anAgent))\n",
    "  (setv httpResponse (urlopen req))\n",
    "  (setv data (.read httpResponse))\n",
    "  data)\n",
    "\n",
    "(get-raw-data-from-web \"http://markwatson.com\")"
   ]
  },
  {
   "cell_type": "code",
   "execution_count": null,
   "metadata": {},
   "outputs": [
    {
     "name": "stdout",
     "output_type": "stream",
     "text": [
      "Downloading data from https://s3.amazonaws.com/text-datasets/nietzsche.txt\n",
      "606208/600901 [==============================] - ETA:  - ETA:  - ETA:  - ETA:  - ETA:  - ETA:  - ETA:  - ETA:  - ETA:  - ETA:  - ETA:  - ETA:  - ETA:  - ETA:  - ETA:  - ETA:  - ETA:  - ETA:  - ETA:  - ETA:  - ETA:  - ETA:  - ETA:  - ETA:  - ETA:  - ETA:  - ETA:  - ETA:  - ETA:  - ETA:  - ETA:  - ETA:  - 2s 4us/step\n",
      "corpus length: 600893\n",
      "total chars (unique characters in input text): 84\n",
      "Create sentences and next_chars data...\n",
      "Vectorization...\n",
      "Done creating one-hot encoded training data.\n",
      "Building model...\n",
      "Epoch 1/60\n",
      "  40/1565 [..............................] - ETA: 0s - loss: 4.432 - ETA: 1:54 - loss: 3.971 - ETA: 2:26 - loss: 3.979 - ETA: 2:40 - loss: 3.868 - ETA: 2:45 - loss: 3.779 - ETA: 2:50 - loss: 3.686 - ETA: 2:59 - loss: 3.598 - ETA: 3:00 - loss: 3.555 - ETA: 3:02 - loss: 3.520 - ETA: 3:05 - loss: 3.470 - ETA: 3:10 - loss: 3.445 - ETA: 3:11 - loss: 3.413 - ETA: 3:11 - loss: 3.412 - ETA: 3:12 - loss: 3.393 - ETA: 3:12 - loss: 3.381 - ETA: 3:12 - loss: 3.367 - ETA: 3:11 - loss: 3.360 - ETA: 3:12 - loss: 3.350 - ETA: 3:12 - loss: 3.333 - ETA: 3:12 - loss: 3.328 - ETA: 3:13 - loss: 3.319 - ETA: 3:13 - loss: 3.301 - ETA: 3:13 - loss: 3.294 - ETA: 3:13 - loss: 3.283 - ETA: 3:13 - loss: 3.272 - ETA: 3:13 - loss: 3.262 - ETA: 3:13 - loss: 3.251 - ETA: 3:14 - loss: 3.242 - ETA: 3:14 - loss: 3.239 - ETA: 3:13 - loss: 3.233 - ETA: 3:13 - loss: 3.227 - ETA: 3:13 - loss: 3.221 - ETA: 3:13 - loss: 3.216 - ETA: 3:13 - loss: 3.213 - ETA: 3:13 - loss: 3.215 - ETA: 3:13 - loss: 3.209 - ETA: 3:12 - loss: 3.205 - ETA: 3:12 - loss: 3.204 - ETA: 3:12 - loss: 3.198 - ETA: 3:12 - loss: 3.1952"
     ]
    }
   ],
   "source": [
    ";; This example was translated from the Python example in the Keras\n",
    ";; documentation at: https://keras.io/examples/lstm_text_generation/\n",
    "\n",
    "(import [keras.callbacks [LambdaCallback]])\n",
    "(import [keras.models [Sequential]])\n",
    "(import [keras.layers [Dense LSTM]])\n",
    "(import [keras.optimizers [RMSprop]])\n",
    "(import [keras.utils.data_utils [get_file]])\n",
    "(import [numpy :as np]) ;; note the syntax for aliasing a module name\n",
    "(import random sys io)\n",
    "\n",
    "(setv path\n",
    "      (get_file        ;; this saves a local copy in ~/.keras/datasets\n",
    "        \"nietzsche.txt\"\n",
    "        :origin \"https://s3.amazonaws.com/text-datasets/nietzsche.txt\"))\n",
    "\n",
    "(with [f (io.open path :encoding \"utf-8\")]\n",
    "  (setv text (.read f))) ;; note: sometimes we use (.lower text) to\n",
    "                         ;;       convert text to all lower case\n",
    "(print \"corpus length:\" (len text))\n",
    "\n",
    "(setv chars (sorted (list (set text))))\n",
    "(print \"total chars (unique characters in input text):\" (len chars))\n",
    "(setv char_indices (dict (lfor i (enumerate chars) (, (last i) (first i)))))\n",
    "(setv indices_char (dict (lfor i (enumerate chars) i)))\n",
    "\n",
    ";; cut the text in semi-redundant sequences of maxlen characters\n",
    "(setv maxlen 40)\n",
    "(setv step 3) ;; when we sample text, slide sampling window 3 characters\n",
    "(setv sentences (list))\n",
    "(setv next_chars (list))\n",
    "\n",
    "(print \"Create sentences and next_chars data...\")\n",
    "(for [i (range 0 (- (len text) maxlen) step)]\n",
    "  (.append sentences (cut text i (+ i maxlen)))\n",
    "  (.append next_chars (get text (+ i maxlen))))\n",
    "\n",
    "(print \"Vectorization...\")\n",
    "(setv x (np.zeros [(len sentences) maxlen (len chars)] :dtype np.bool))\n",
    "(setv y (np.zeros [(len sentences) (len chars)] :dtype np.bool))\n",
    "(for [[i sentence] (lfor j (enumerate sentences) j)]\n",
    "  (for [[t char] (lfor j (enumerate sentence) j)]\n",
    "    (setv (get x i t (get char_indices char)) 1))\n",
    "  (setv (get y i (get char_indices (get next_chars i))) 1))\n",
    "(print \"Done creating one-hot encoded training data.\")\n",
    "\n",
    "(print \"Building model...\")\n",
    "(setv model (Sequential))\n",
    "(.add model (LSTM 128 :input_shape [maxlen (len chars)]))\n",
    "(.add model (Dense (len chars) :activation \"softmax\"))\n",
    "\n",
    "(setv optimizer (RMSprop 0.01))\n",
    "(.compile model :loss \"categorical_crossentropy\" :optimizer optimizer)\n",
    "\n",
    "(defn sample [preds &optional [temperature 1.0]]\n",
    "  (setv preds (.astype (np.array preds) \"float64\"))\n",
    "  (setv preds (/ (np.log preds) temperature))\n",
    "  (setv exp_preds (np.exp preds))\n",
    "  (setv preds (/ exp_preds (np.sum exp_preds)))\n",
    "  (setv probas (np.random.multinomial 1 preds 1))\n",
    "  (np.argmax probas))\n",
    "\n",
    "(defn on_epoch_end [epoch &optional not-used]\n",
    "  (print)\n",
    "  (print \"----- Generating text after Epoch:\" epoch)\n",
    "  (setv start_index (random.randint 0 (- (len text) maxlen 1)))\n",
    "  (for [diversity [0.2 0.5 1.0 1.2]]\n",
    "    (print \"----- diversity:\" diversity)\n",
    "    (setv generated \"\")\n",
    "    (setv sentence (cut text start_index (+ start_index maxlen)))\n",
    "    (setv generated (+ generated sentence))\n",
    "    (print \"----- Generating with seed:\" sentence)\n",
    "    (sys.stdout.write generated)\n",
    "    (for [i (range 400)]\n",
    "      (setv x_pred (np.zeros [1 maxlen (len chars)]))\n",
    "      (for [[t char] (lfor j (enumerate sentence) j)]\n",
    "        (setv (get x_pred 0 t (get char_indices char)) 1))\n",
    "      (setv preds (first (model.predict x_pred :verbose 0)))\n",
    "      (print \"** preds=\" preds)\n",
    "      (setv next_index (sample preds diversity))\n",
    "      (setv next_char (get indices_char next_index))\n",
    "      (setv sentence (+ (cut sentence 1) next_char))\n",
    "      (sys.stdout.write next_char)\n",
    "      (sys.stdout.flush))\n",
    "    (print)))\n",
    "\n",
    "(setv print_callback (LambdaCallback :on_epoch_end on_epoch_end))\n",
    "\n",
    "(model.fit x y :batch_size 128 :epochs 60 :callbacks [print_callback])"
   ]
  },
  {
   "cell_type": "code",
   "execution_count": null,
   "metadata": {},
   "outputs": [],
   "source": []
  }
 ],
 "metadata": {
  "kernelspec": {
   "display_name": "Calysto Hy",
   "language": "hy",
   "name": "calysto_hy"
  },
  "language_info": {
   "codemirror_mode": {
    "name": "scheme"
   },
   "mimetype": "text/x-hylang",
   "name": "hy",
   "pygments_lexer": "lisp"
  }
 },
 "nbformat": 4,
 "nbformat_minor": 4
}
